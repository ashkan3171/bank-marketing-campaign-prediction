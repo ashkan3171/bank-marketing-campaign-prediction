{
 "cells": [
  {
   "cell_type": "code",
   "execution_count": 29,
   "metadata": {},
   "outputs": [],
   "source": [
    "import pandas as pd\n",
    "import numpy as np\n",
    "import matplotlib.pyplot as plt\n",
    "import seaborn as sns\n",
    "from sklearn.preprocessing import OneHotEncoder, LabelEncoder, OrdinalEncoder, StandardScaler\n",
    "from sklearn.model_selection import train_test_split\n",
    "from sklearn.linear_model import LogisticRegression\n",
    "from sklearn.ensemble import RandomForestClassifier\n",
    "from sklearn.model_selection import RandomizedSearchCV\n",
    "from sklearn.metrics import confusion_matrix, classification_report\n",
    "from imblearn.over_sampling import SMOTE\n",
    "from xgboost import XGBClassifier"
   ]
  },
  {
   "cell_type": "markdown",
   "metadata": {},
   "source": [
    "You can download the dataset directly from the UCI Machine Learning Repository:\n",
    "\n",
    "[Bank Marketing Dataset - UCI Machine Learning Repository](https://archive.ics.uci.edu/dataset/222/bank%2Bmarketing)"
   ]
  },
  {
   "cell_type": "code",
   "execution_count": 2,
   "metadata": {},
   "outputs": [
    {
     "data": {
      "text/html": [
       "<div>\n",
       "<style scoped>\n",
       "    .dataframe tbody tr th:only-of-type {\n",
       "        vertical-align: middle;\n",
       "    }\n",
       "\n",
       "    .dataframe tbody tr th {\n",
       "        vertical-align: top;\n",
       "    }\n",
       "\n",
       "    .dataframe thead th {\n",
       "        text-align: right;\n",
       "    }\n",
       "</style>\n",
       "<table border=\"1\" class=\"dataframe\">\n",
       "  <thead>\n",
       "    <tr style=\"text-align: right;\">\n",
       "      <th></th>\n",
       "      <th>age</th>\n",
       "      <th>job</th>\n",
       "      <th>marital</th>\n",
       "      <th>education</th>\n",
       "      <th>default</th>\n",
       "      <th>balance</th>\n",
       "      <th>housing</th>\n",
       "      <th>loan</th>\n",
       "      <th>contact</th>\n",
       "      <th>day</th>\n",
       "      <th>month</th>\n",
       "      <th>duration</th>\n",
       "      <th>campaign</th>\n",
       "      <th>pdays</th>\n",
       "      <th>previous</th>\n",
       "      <th>poutcome</th>\n",
       "      <th>y</th>\n",
       "    </tr>\n",
       "  </thead>\n",
       "  <tbody>\n",
       "    <tr>\n",
       "      <th>0</th>\n",
       "      <td>58</td>\n",
       "      <td>management</td>\n",
       "      <td>married</td>\n",
       "      <td>tertiary</td>\n",
       "      <td>no</td>\n",
       "      <td>2143</td>\n",
       "      <td>yes</td>\n",
       "      <td>no</td>\n",
       "      <td>unknown</td>\n",
       "      <td>5</td>\n",
       "      <td>may</td>\n",
       "      <td>261</td>\n",
       "      <td>1</td>\n",
       "      <td>-1</td>\n",
       "      <td>0</td>\n",
       "      <td>unknown</td>\n",
       "      <td>no</td>\n",
       "    </tr>\n",
       "    <tr>\n",
       "      <th>1</th>\n",
       "      <td>44</td>\n",
       "      <td>technician</td>\n",
       "      <td>single</td>\n",
       "      <td>secondary</td>\n",
       "      <td>no</td>\n",
       "      <td>29</td>\n",
       "      <td>yes</td>\n",
       "      <td>no</td>\n",
       "      <td>unknown</td>\n",
       "      <td>5</td>\n",
       "      <td>may</td>\n",
       "      <td>151</td>\n",
       "      <td>1</td>\n",
       "      <td>-1</td>\n",
       "      <td>0</td>\n",
       "      <td>unknown</td>\n",
       "      <td>no</td>\n",
       "    </tr>\n",
       "    <tr>\n",
       "      <th>2</th>\n",
       "      <td>33</td>\n",
       "      <td>entrepreneur</td>\n",
       "      <td>married</td>\n",
       "      <td>secondary</td>\n",
       "      <td>no</td>\n",
       "      <td>2</td>\n",
       "      <td>yes</td>\n",
       "      <td>yes</td>\n",
       "      <td>unknown</td>\n",
       "      <td>5</td>\n",
       "      <td>may</td>\n",
       "      <td>76</td>\n",
       "      <td>1</td>\n",
       "      <td>-1</td>\n",
       "      <td>0</td>\n",
       "      <td>unknown</td>\n",
       "      <td>no</td>\n",
       "    </tr>\n",
       "    <tr>\n",
       "      <th>3</th>\n",
       "      <td>47</td>\n",
       "      <td>blue-collar</td>\n",
       "      <td>married</td>\n",
       "      <td>unknown</td>\n",
       "      <td>no</td>\n",
       "      <td>1506</td>\n",
       "      <td>yes</td>\n",
       "      <td>no</td>\n",
       "      <td>unknown</td>\n",
       "      <td>5</td>\n",
       "      <td>may</td>\n",
       "      <td>92</td>\n",
       "      <td>1</td>\n",
       "      <td>-1</td>\n",
       "      <td>0</td>\n",
       "      <td>unknown</td>\n",
       "      <td>no</td>\n",
       "    </tr>\n",
       "    <tr>\n",
       "      <th>4</th>\n",
       "      <td>33</td>\n",
       "      <td>unknown</td>\n",
       "      <td>single</td>\n",
       "      <td>unknown</td>\n",
       "      <td>no</td>\n",
       "      <td>1</td>\n",
       "      <td>no</td>\n",
       "      <td>no</td>\n",
       "      <td>unknown</td>\n",
       "      <td>5</td>\n",
       "      <td>may</td>\n",
       "      <td>198</td>\n",
       "      <td>1</td>\n",
       "      <td>-1</td>\n",
       "      <td>0</td>\n",
       "      <td>unknown</td>\n",
       "      <td>no</td>\n",
       "    </tr>\n",
       "  </tbody>\n",
       "</table>\n",
       "</div>"
      ],
      "text/plain": [
       "   age           job  marital  education default  balance housing loan  \\\n",
       "0   58    management  married   tertiary      no     2143     yes   no   \n",
       "1   44    technician   single  secondary      no       29     yes   no   \n",
       "2   33  entrepreneur  married  secondary      no        2     yes  yes   \n",
       "3   47   blue-collar  married    unknown      no     1506     yes   no   \n",
       "4   33       unknown   single    unknown      no        1      no   no   \n",
       "\n",
       "   contact  day month  duration  campaign  pdays  previous poutcome   y  \n",
       "0  unknown    5   may       261         1     -1         0  unknown  no  \n",
       "1  unknown    5   may       151         1     -1         0  unknown  no  \n",
       "2  unknown    5   may        76         1     -1         0  unknown  no  \n",
       "3  unknown    5   may        92         1     -1         0  unknown  no  \n",
       "4  unknown    5   may       198         1     -1         0  unknown  no  "
      ]
     },
     "execution_count": 2,
     "metadata": {},
     "output_type": "execute_result"
    }
   ],
   "source": [
    "df = pd.read_csv('data/bank-full.csv', sep=\";\")\n",
    "df.head()"
   ]
  },
  {
   "cell_type": "code",
   "execution_count": 3,
   "metadata": {},
   "outputs": [
    {
     "name": "stdout",
     "output_type": "stream",
     "text": [
      "<class 'pandas.core.frame.DataFrame'>\n",
      "RangeIndex: 45211 entries, 0 to 45210\n",
      "Data columns (total 17 columns):\n",
      " #   Column     Non-Null Count  Dtype \n",
      "---  ------     --------------  ----- \n",
      " 0   age        45211 non-null  int64 \n",
      " 1   job        45211 non-null  object\n",
      " 2   marital    45211 non-null  object\n",
      " 3   education  45211 non-null  object\n",
      " 4   default    45211 non-null  object\n",
      " 5   balance    45211 non-null  int64 \n",
      " 6   housing    45211 non-null  object\n",
      " 7   loan       45211 non-null  object\n",
      " 8   contact    45211 non-null  object\n",
      " 9   day        45211 non-null  int64 \n",
      " 10  month      45211 non-null  object\n",
      " 11  duration   45211 non-null  int64 \n",
      " 12  campaign   45211 non-null  int64 \n",
      " 13  pdays      45211 non-null  int64 \n",
      " 14  previous   45211 non-null  int64 \n",
      " 15  poutcome   45211 non-null  object\n",
      " 16  y          45211 non-null  object\n",
      "dtypes: int64(7), object(10)\n",
      "memory usage: 5.9+ MB\n"
     ]
    }
   ],
   "source": [
    "df.info()"
   ]
  },
  {
   "cell_type": "markdown",
   "metadata": {},
   "source": [
    "There are `45211` rows and `17` columns in our dataset.\n",
    "\n",
    "There are `7` numerical features and `10` categorical ones in our dataset.\n",
    "\n",
    "There is no missing value in the dataset."
   ]
  },
  {
   "cell_type": "code",
   "execution_count": 4,
   "metadata": {},
   "outputs": [
    {
     "name": "stdout",
     "output_type": "stream",
     "text": [
      "y\n",
      "no     39922\n",
      "yes     5289\n",
      "Name: count, dtype: int64\n",
      "y\n",
      "no     88.30152\n",
      "yes    11.69848\n",
      "Name: proportion, dtype: float64\n"
     ]
    }
   ],
   "source": [
    "print(df['y'].value_counts())\n",
    "print(df['y'].value_counts(normalize=True)*100)"
   ]
  },
  {
   "cell_type": "markdown",
   "metadata": {},
   "source": [
    "The target variable is imbalanced."
   ]
  },
  {
   "cell_type": "markdown",
   "metadata": {},
   "source": [
    "##  EDA"
   ]
  },
  {
   "cell_type": "code",
   "execution_count": 5,
   "metadata": {},
   "outputs": [
    {
     "data": {
      "text/html": [
       "<div>\n",
       "<style scoped>\n",
       "    .dataframe tbody tr th:only-of-type {\n",
       "        vertical-align: middle;\n",
       "    }\n",
       "\n",
       "    .dataframe tbody tr th {\n",
       "        vertical-align: top;\n",
       "    }\n",
       "\n",
       "    .dataframe thead th {\n",
       "        text-align: right;\n",
       "    }\n",
       "</style>\n",
       "<table border=\"1\" class=\"dataframe\">\n",
       "  <thead>\n",
       "    <tr style=\"text-align: right;\">\n",
       "      <th></th>\n",
       "      <th>age</th>\n",
       "      <th>balance</th>\n",
       "      <th>day</th>\n",
       "      <th>duration</th>\n",
       "      <th>campaign</th>\n",
       "      <th>pdays</th>\n",
       "      <th>previous</th>\n",
       "    </tr>\n",
       "  </thead>\n",
       "  <tbody>\n",
       "    <tr>\n",
       "      <th>count</th>\n",
       "      <td>45211.000000</td>\n",
       "      <td>45211.000000</td>\n",
       "      <td>45211.000000</td>\n",
       "      <td>45211.000000</td>\n",
       "      <td>45211.000000</td>\n",
       "      <td>45211.000000</td>\n",
       "      <td>45211.000000</td>\n",
       "    </tr>\n",
       "    <tr>\n",
       "      <th>mean</th>\n",
       "      <td>40.936210</td>\n",
       "      <td>1362.272058</td>\n",
       "      <td>15.806419</td>\n",
       "      <td>258.163080</td>\n",
       "      <td>2.763841</td>\n",
       "      <td>40.197828</td>\n",
       "      <td>0.580323</td>\n",
       "    </tr>\n",
       "    <tr>\n",
       "      <th>std</th>\n",
       "      <td>10.618762</td>\n",
       "      <td>3044.765829</td>\n",
       "      <td>8.322476</td>\n",
       "      <td>257.527812</td>\n",
       "      <td>3.098021</td>\n",
       "      <td>100.128746</td>\n",
       "      <td>2.303441</td>\n",
       "    </tr>\n",
       "    <tr>\n",
       "      <th>min</th>\n",
       "      <td>18.000000</td>\n",
       "      <td>-8019.000000</td>\n",
       "      <td>1.000000</td>\n",
       "      <td>0.000000</td>\n",
       "      <td>1.000000</td>\n",
       "      <td>-1.000000</td>\n",
       "      <td>0.000000</td>\n",
       "    </tr>\n",
       "    <tr>\n",
       "      <th>25%</th>\n",
       "      <td>33.000000</td>\n",
       "      <td>72.000000</td>\n",
       "      <td>8.000000</td>\n",
       "      <td>103.000000</td>\n",
       "      <td>1.000000</td>\n",
       "      <td>-1.000000</td>\n",
       "      <td>0.000000</td>\n",
       "    </tr>\n",
       "    <tr>\n",
       "      <th>50%</th>\n",
       "      <td>39.000000</td>\n",
       "      <td>448.000000</td>\n",
       "      <td>16.000000</td>\n",
       "      <td>180.000000</td>\n",
       "      <td>2.000000</td>\n",
       "      <td>-1.000000</td>\n",
       "      <td>0.000000</td>\n",
       "    </tr>\n",
       "    <tr>\n",
       "      <th>75%</th>\n",
       "      <td>48.000000</td>\n",
       "      <td>1428.000000</td>\n",
       "      <td>21.000000</td>\n",
       "      <td>319.000000</td>\n",
       "      <td>3.000000</td>\n",
       "      <td>-1.000000</td>\n",
       "      <td>0.000000</td>\n",
       "    </tr>\n",
       "    <tr>\n",
       "      <th>max</th>\n",
       "      <td>95.000000</td>\n",
       "      <td>102127.000000</td>\n",
       "      <td>31.000000</td>\n",
       "      <td>4918.000000</td>\n",
       "      <td>63.000000</td>\n",
       "      <td>871.000000</td>\n",
       "      <td>275.000000</td>\n",
       "    </tr>\n",
       "  </tbody>\n",
       "</table>\n",
       "</div>"
      ],
      "text/plain": [
       "                age        balance           day      duration      campaign  \\\n",
       "count  45211.000000   45211.000000  45211.000000  45211.000000  45211.000000   \n",
       "mean      40.936210    1362.272058     15.806419    258.163080      2.763841   \n",
       "std       10.618762    3044.765829      8.322476    257.527812      3.098021   \n",
       "min       18.000000   -8019.000000      1.000000      0.000000      1.000000   \n",
       "25%       33.000000      72.000000      8.000000    103.000000      1.000000   \n",
       "50%       39.000000     448.000000     16.000000    180.000000      2.000000   \n",
       "75%       48.000000    1428.000000     21.000000    319.000000      3.000000   \n",
       "max       95.000000  102127.000000     31.000000   4918.000000     63.000000   \n",
       "\n",
       "              pdays      previous  \n",
       "count  45211.000000  45211.000000  \n",
       "mean      40.197828      0.580323  \n",
       "std      100.128746      2.303441  \n",
       "min       -1.000000      0.000000  \n",
       "25%       -1.000000      0.000000  \n",
       "50%       -1.000000      0.000000  \n",
       "75%       -1.000000      0.000000  \n",
       "max      871.000000    275.000000  "
      ]
     },
     "execution_count": 5,
     "metadata": {},
     "output_type": "execute_result"
    }
   ],
   "source": [
    "df.describe()"
   ]
  },
  {
   "cell_type": "markdown",
   "metadata": {},
   "source": [
    "`age`: Starts from `18` and ends with `95`, which is resoanable. The median is `39` and the `meann` is `40`, so they are close to each other. Std is `10`, it shows us the vriability. It seems there are some too old people.\n",
    "\n",
    "`balance`: Std is high so the variability is high as well. min is negetavie, we should check, if its resoanlabe. mean is much higher than median so it can be right-skewed. \n",
    "\n",
    "`day`: The range is from `1` to `31` which is reasonable. \n",
    "\n",
    "`duration`: The diffrence between max and 75% is too much so there are outliers(extreme high values). mean is bigger than medain so it can be right-skewed. \n",
    "\n",
    "`pdays`: mean is higher than median, can be right-skewed. There are negative values, so we should cjeck them.\n",
    "\n",
    "`previous`: Max is much higher than 75%, can mean its right-skewed. Most clients have never been contacted before, so we should analyze its distribution further."
   ]
  },
  {
   "cell_type": "code",
   "execution_count": 6,
   "metadata": {},
   "outputs": [
    {
     "data": {
      "image/png": "[encoded data removed]",
      "text/plain": [
       "<Figure size 1000x800 with 7 Axes>"
      ]
     },
     "metadata": {},
     "output_type": "display_data"
    }
   ],
   "source": [
    "num_features = df.select_dtypes(include='int64')\n",
    "plt.figure(figsize=(10,8))\n",
    "\n",
    "for i, col in enumerate(num_features, 1):\n",
    "    plt.subplot(3, 3, i)\n",
    "    sns.boxplot(df[col], showmeans=True)\n",
    "    plt.title(f'boxplot of {col}')\n",
    "\n",
    "plt.tight_layout()\n",
    "plt.show()"
   ]
  },
  {
   "cell_type": "markdown",
   "metadata": {},
   "source": [
    "Based on the boxplot:\n",
    "\n",
    "`day`: Seems normall.\n",
    "\n",
    "`age`: There are outliers, some values are too high(old).\n",
    "\n",
    "`balance`: There are outliers and some with very extreme values. There are negative values we should check.\n",
    "\n",
    "`duration`: There are outliers.\n",
    "\n",
    "`campagin`: There are outliers.\n",
    "\n",
    "`pdays`: Some extreme values beyond 600-800, making it highly skewed. We should check how many times -1 appears and possibly separate it into a new category.\n",
    "\n",
    "`previous`: Most values are near 0, but extreme values reach 275, meaning some people were contacted many times before. The distribution is highly skewed, so we may need transformations or binning."
   ]
  },
  {
   "cell_type": "code",
   "execution_count": 7,
   "metadata": {},
   "outputs": [
    {
     "data": {
      "text/plain": [
       "3766"
      ]
     },
     "execution_count": 7,
     "metadata": {},
     "output_type": "execute_result"
    }
   ],
   "source": [
    "df[df['balance']<0].shape[0]"
   ]
  },
  {
   "cell_type": "markdown",
   "metadata": {},
   "source": [
    "There are `3766` values as `-1` for `balance`."
   ]
  },
  {
   "cell_type": "code",
   "execution_count": 8,
   "metadata": {},
   "outputs": [
    {
     "data": {
      "text/plain": [
       "pdays\n",
       "-1      36954\n",
       " 182      167\n",
       " 92       147\n",
       " 183      126\n",
       " 91       126\n",
       "        ...  \n",
       " 756        1\n",
       " 745        1\n",
       " 530        1\n",
       " 749        1\n",
       " 838        1\n",
       "Name: count, Length: 559, dtype: int64"
      ]
     },
     "execution_count": 8,
     "metadata": {},
     "output_type": "execute_result"
    }
   ],
   "source": [
    "df['pdays'].value_counts()"
   ]
  },
  {
   "cell_type": "markdown",
   "metadata": {},
   "source": [
    "There are `36954` `pdays` with `-1` as their value."
   ]
  },
  {
   "cell_type": "code",
   "execution_count": 9,
   "metadata": {},
   "outputs": [
    {
     "data": {
      "image/png": "[encoded data removed]",
      "text/plain": [
       "<Figure size 1200x800 with 7 Axes>"
      ]
     },
     "metadata": {},
     "output_type": "display_data"
    }
   ],
   "source": [
    "plt.figure(figsize=(12,8))\n",
    "\n",
    "for i, col in enumerate(num_features, 1):\n",
    "    plt.subplot(3, 3, i)\n",
    "    sns.histplot(df[col], bins=30, kde=True, color='blue')\n",
    "    plt.title(f'histogram of {col}')\n",
    "\n",
    "plt.tight_layout()\n",
    "plt.show()"
   ]
  },
  {
   "cell_type": "markdown",
   "metadata": {},
   "source": [
    "Based on the Histograms:\n",
    "\n",
    "`age`: Most of the ages are between `20` to `40`. There are some high values.\n",
    "\n",
    "`balance`: Its right-skewed. Some have very high balance.\n",
    "\n",
    "`day`: Its distributed uniformly.\n",
    "\n",
    "`duration`: Its right-skewed. \n",
    "\n",
    "`campagin`: Its right-skewed.\n",
    "\n",
    "`pdays`: Its right-skewed.\n",
    "\n",
    "`previous`: Its right-skewed."
   ]
  },
  {
   "cell_type": "code",
   "execution_count": 10,
   "metadata": {},
   "outputs": [
    {
     "data": {
      "text/plain": [
       "count    3766.000000\n",
       "mean     -317.677642\n",
       "std       368.994983\n",
       "min     -8019.000000\n",
       "25%      -422.000000\n",
       "50%      -230.000000\n",
       "75%       -93.000000\n",
       "max        -1.000000\n",
       "Name: balance, dtype: float64"
      ]
     },
     "execution_count": 10,
     "metadata": {},
     "output_type": "execute_result"
    }
   ],
   "source": [
    "df[df['balance'] < 0]['balance'].describe()"
   ]
  },
  {
   "cell_type": "code",
   "execution_count": 11,
   "metadata": {},
   "outputs": [
    {
     "data": {
      "text/plain": [
       "pdays  y  \n",
       "-1     no     0.908427\n",
       "       yes    0.091573\n",
       " 1     no     0.600000\n",
       "       yes    0.400000\n",
       " 2     no     0.945946\n",
       "                ...   \n",
       " 838   no     1.000000\n",
       " 842   yes    1.000000\n",
       " 850   no     1.000000\n",
       " 854   yes    1.000000\n",
       " 871   no     1.000000\n",
       "Name: proportion, Length: 914, dtype: float64"
      ]
     },
     "execution_count": 11,
     "metadata": {},
     "output_type": "execute_result"
    }
   ],
   "source": [
    "df.groupby('pdays')['y'].value_counts(normalize=True)"
   ]
  },
  {
   "cell_type": "code",
   "execution_count": 12,
   "metadata": {},
   "outputs": [
    {
     "data": {
      "text/plain": [
       "previous  y  \n",
       "0         no     0.908427\n",
       "          yes    0.091573\n",
       "1         no     0.789683\n",
       "          yes    0.210317\n",
       "2         no     0.783476\n",
       "                   ...   \n",
       "41        no     1.000000\n",
       "51        no     1.000000\n",
       "55        yes    1.000000\n",
       "58        yes    1.000000\n",
       "275       no     1.000000\n",
       "Name: proportion, Length: 66, dtype: float64"
      ]
     },
     "execution_count": 12,
     "metadata": {},
     "output_type": "execute_result"
    }
   ],
   "source": [
    "df.groupby('previous')['y'].value_counts(normalize=True)"
   ]
  },
  {
   "cell_type": "code",
   "execution_count": 13,
   "metadata": {},
   "outputs": [
    {
     "data": {
      "text/plain": [
       "balance_category  y  \n",
       "negative          no     0.944238\n",
       "                  yes    0.055762\n",
       "positive          no     0.877452\n",
       "                  yes    0.122548\n",
       "Name: proportion, dtype: float64"
      ]
     },
     "execution_count": 13,
     "metadata": {},
     "output_type": "execute_result"
    }
   ],
   "source": [
    "df['balance_category'] = df['balance'].apply(lambda x: 'negative' if x < 0 else 'positive')\n",
    "df.groupby('balance_category')['y'].value_counts(normalize=True)"
   ]
  },
  {
   "cell_type": "code",
   "execution_count": 14,
   "metadata": {},
   "outputs": [
    {
     "data": {
      "text/plain": [
       "pdays_category    y  \n",
       "contacted_before  no     0.769287\n",
       "                  yes    0.230713\n",
       "never_contacted   no     0.908427\n",
       "                  yes    0.091573\n",
       "Name: proportion, dtype: float64"
      ]
     },
     "execution_count": 14,
     "metadata": {},
     "output_type": "execute_result"
    }
   ],
   "source": [
    "df['pdays_category'] = df['pdays'].apply(lambda x: 'never_contacted' if x == -1 else 'contacted_before')\n",
    "df.groupby('pdays_category')['y'].value_counts(normalize=True)"
   ]
  },
  {
   "cell_type": "code",
   "execution_count": 15,
   "metadata": {},
   "outputs": [
    {
     "data": {
      "text/plain": [
       "previous_category  y  \n",
       "few_times          no     0.778571\n",
       "                   yes    0.221429\n",
       "many_times         no     0.744300\n",
       "                   yes    0.255700\n",
       "never_contacted    no     0.908427\n",
       "                   yes    0.091573\n",
       "Name: proportion, dtype: float64"
      ]
     },
     "execution_count": 15,
     "metadata": {},
     "output_type": "execute_result"
    }
   ],
   "source": [
    "df['previous_category'] = df['previous'].apply(lambda x: 'never_contacted' if x == 0 else ('few_times' if x <= 3 else 'many_times'))\n",
    "df.groupby('previous_category')['y'].value_counts(normalize=True)"
   ]
  },
  {
   "cell_type": "markdown",
   "metadata": {},
   "source": [
    "## Feature Engineering"
   ]
  },
  {
   "cell_type": "code",
   "execution_count": 16,
   "metadata": {},
   "outputs": [
    {
     "data": {
      "text/plain": [
       "job                  12\n",
       "marital               3\n",
       "education             4\n",
       "default               2\n",
       "housing               2\n",
       "loan                  2\n",
       "contact               3\n",
       "month                12\n",
       "poutcome              4\n",
       "y                     2\n",
       "balance_category      2\n",
       "pdays_category        2\n",
       "previous_category     3\n",
       "dtype: int64"
      ]
     },
     "execution_count": 16,
     "metadata": {},
     "output_type": "execute_result"
    }
   ],
   "source": [
    "cat_features = df.select_dtypes(include='object')\n",
    "cat_features.nunique()"
   ]
  },
  {
   "cell_type": "code",
   "execution_count": 17,
   "metadata": {},
   "outputs": [],
   "source": [
    "# One-Hot Encoding for Nominal Categorical Variables\n",
    "ohe_columns = [\"job\", \"marital\", \"contact\", \"month\", \"poutcome\", \"pdays_category\", \"previous_category\", \"balance_category\"]\n",
    "df = pd.get_dummies(df, columns=ohe_columns, drop_first=True)  # drop_first=True avoids multicollinearity\n",
    "\n",
    "# Ordinal Encoding for Ordered Categories\n",
    "education_order = [\"unknown\", \"primary\", \"secondary\", \"tertiary\"]\n",
    "ordinal_encoder = OrdinalEncoder(categories=[education_order])\n",
    "df[\"education\"] = ordinal_encoder.fit_transform(df[[\"education\"]])\n",
    "\n",
    "# Binary Encoding for Yes/No Features\n",
    "binary_columns = [\"default\", \"housing\", \"loan\", \"y\"]\n",
    "for col in binary_columns:\n",
    "    df[col] = df[col].map({\"no\": 0, \"yes\": 1})"
   ]
  },
  {
   "cell_type": "code",
   "execution_count": 18,
   "metadata": {},
   "outputs": [
    {
     "name": "stdout",
     "output_type": "stream",
     "text": [
      "<class 'pandas.core.frame.DataFrame'>\n",
      "RangeIndex: 45211 entries, 0 to 45210\n",
      "Data columns (total 45 columns):\n",
      " #   Column                             Non-Null Count  Dtype  \n",
      "---  ------                             --------------  -----  \n",
      " 0   age                                45211 non-null  int64  \n",
      " 1   education                          45211 non-null  float64\n",
      " 2   default                            45211 non-null  int64  \n",
      " 3   balance                            45211 non-null  int64  \n",
      " 4   housing                            45211 non-null  int64  \n",
      " 5   loan                               45211 non-null  int64  \n",
      " 6   day                                45211 non-null  int64  \n",
      " 7   duration                           45211 non-null  int64  \n",
      " 8   campaign                           45211 non-null  int64  \n",
      " 9   pdays                              45211 non-null  int64  \n",
      " 10  previous                           45211 non-null  int64  \n",
      " 11  y                                  45211 non-null  int64  \n",
      " 12  job_blue-collar                    45211 non-null  bool   \n",
      " 13  job_entrepreneur                   45211 non-null  bool   \n",
      " 14  job_housemaid                      45211 non-null  bool   \n",
      " 15  job_management                     45211 non-null  bool   \n",
      " 16  job_retired                        45211 non-null  bool   \n",
      " 17  job_self-employed                  45211 non-null  bool   \n",
      " 18  job_services                       45211 non-null  bool   \n",
      " 19  job_student                        45211 non-null  bool   \n",
      " 20  job_technician                     45211 non-null  bool   \n",
      " 21  job_unemployed                     45211 non-null  bool   \n",
      " 22  job_unknown                        45211 non-null  bool   \n",
      " 23  marital_married                    45211 non-null  bool   \n",
      " 24  marital_single                     45211 non-null  bool   \n",
      " 25  contact_telephone                  45211 non-null  bool   \n",
      " 26  contact_unknown                    45211 non-null  bool   \n",
      " 27  month_aug                          45211 non-null  bool   \n",
      " 28  month_dec                          45211 non-null  bool   \n",
      " 29  month_feb                          45211 non-null  bool   \n",
      " 30  month_jan                          45211 non-null  bool   \n",
      " 31  month_jul                          45211 non-null  bool   \n",
      " 32  month_jun                          45211 non-null  bool   \n",
      " 33  month_mar                          45211 non-null  bool   \n",
      " 34  month_may                          45211 non-null  bool   \n",
      " 35  month_nov                          45211 non-null  bool   \n",
      " 36  month_oct                          45211 non-null  bool   \n",
      " 37  month_sep                          45211 non-null  bool   \n",
      " 38  poutcome_other                     45211 non-null  bool   \n",
      " 39  poutcome_success                   45211 non-null  bool   \n",
      " 40  poutcome_unknown                   45211 non-null  bool   \n",
      " 41  pdays_category_never_contacted     45211 non-null  bool   \n",
      " 42  previous_category_many_times       45211 non-null  bool   \n",
      " 43  previous_category_never_contacted  45211 non-null  bool   \n",
      " 44  balance_category_positive          45211 non-null  bool   \n",
      "dtypes: bool(33), float64(1), int64(11)\n",
      "memory usage: 5.6 MB\n"
     ]
    }
   ],
   "source": [
    "df.info()"
   ]
  },
  {
   "cell_type": "code",
   "execution_count": 19,
   "metadata": {},
   "outputs": [],
   "source": [
    "# Convert only boolean columns to integers (0 and 1)\n",
    "bool_cols = df.select_dtypes(include='bool').columns\n",
    "df[bool_cols] = df[bool_cols].astype(int)"
   ]
  },
  {
   "cell_type": "code",
   "execution_count": 20,
   "metadata": {},
   "outputs": [],
   "source": [
    "# Selecting numerical features to scale\n",
    "num_features_to_scale = [\"age\", \"balance\", \"campaign\"]\n",
    "\n",
    "scaler = StandardScaler()\n",
    "\n",
    "df[num_features_to_scale] = scaler.fit_transform(df[num_features_to_scale])"
   ]
  },
  {
   "cell_type": "markdown",
   "metadata": {},
   "source": [
    "## Model Evaluate"
   ]
  },
  {
   "cell_type": "code",
   "execution_count": 21,
   "metadata": {},
   "outputs": [
    {
     "name": "stdout",
     "output_type": "stream",
     "text": [
      "(36168, 44)\n",
      "(36168,)\n",
      "(9043, 44)\n",
      "(9043,)\n"
     ]
    }
   ],
   "source": [
    "X = df.drop(columns='y')\n",
    "y = df['y']\n",
    "\n",
    "X_train, X_test, y_train, y_test = train_test_split(X, y, test_size=0.2, random_state=42, stratify=y)\n",
    "\n",
    "print(X_train.shape)\n",
    "print(y_train.shape)\n",
    "print(X_test.shape)\n",
    "print(y_test.shape)"
   ]
  },
  {
   "cell_type": "code",
   "execution_count": 22,
   "metadata": {},
   "outputs": [
    {
     "name": "stdout",
     "output_type": "stream",
     "text": [
      "[[6782 1203]\n",
      " [ 197  861]]\n",
      "              precision    recall  f1-score   support\n",
      "\n",
      "           0       0.97      0.85      0.91      7985\n",
      "           1       0.42      0.81      0.55      1058\n",
      "\n",
      "    accuracy                           0.85      9043\n",
      "   macro avg       0.69      0.83      0.73      9043\n",
      "weighted avg       0.91      0.85      0.86      9043\n",
      "\n"
     ]
    },
    {
     "name": "stderr",
     "output_type": "stream",
     "text": [
      "f:\\AI Data Projects\\Bank_Marketing _Campaign_Success_Prediction\\bank_marketing\\lib\\site-packages\\sklearn\\linear_model\\_logistic.py:465: ConvergenceWarning: lbfgs failed to converge (status=1):\n",
      "STOP: TOTAL NO. of ITERATIONS REACHED LIMIT.\n",
      "\n",
      "Increase the number of iterations (max_iter) or scale the data as shown in:\n",
      "    https://scikit-learn.org/stable/modules/preprocessing.html\n",
      "Please also refer to the documentation for alternative solver options:\n",
      "    https://scikit-learn.org/stable/modules/linear_model.html#logistic-regression\n",
      "  n_iter_i = _check_optimize_result(\n"
     ]
    }
   ],
   "source": [
    "log_model = LogisticRegression(max_iter=1000, random_state=42, class_weight='balanced')\n",
    "\n",
    "log_model.fit(X_train, y_train)\n",
    "\n",
    "log_y_pred = log_model.predict(X_test)\n",
    "\n",
    "print(confusion_matrix(y_test, log_y_pred))\n",
    "print(classification_report(y_test, log_y_pred))"
   ]
  },
  {
   "cell_type": "markdown",
   "metadata": {},
   "source": [
    "True Negatives (6782): Predicted \"no\" correctly.\n",
    "\n",
    "False Positives (1203): Predicted \"yes\" incorrectly.\n",
    "\n",
    "False Negatives (197): Missed actual \"yes\".\n",
    "\n",
    "True Positives (861): Predicted \"yes\" correctly.\n",
    "\n",
    "Precision & Recall:\n",
    "\n",
    "Class 0 (No Subscription)\n",
    "\n",
    "Precision: 97% (Very high)\n",
    "\n",
    "Recall: 85% (Misses some true 'no' cases)\n",
    "\n",
    "Class 1 (Subscription)\n",
    "\n",
    "Precision: 42% (Low, means a lot of false positives)\n",
    "\n",
    "Recall: 81% (Decent, means it captures most of the true 'yes')\n",
    "\n",
    "F1-Score:\n",
    "\n",
    "Class 0: 91% (Very good)\n",
    "\n",
    "Class 1: 55% (Not great, needs improvement)"
   ]
  },
  {
   "cell_type": "code",
   "execution_count": 23,
   "metadata": {},
   "outputs": [
    {
     "name": "stdout",
     "output_type": "stream",
     "text": [
      "[[7788  197]\n",
      " [ 643  415]]\n",
      "              precision    recall  f1-score   support\n",
      "\n",
      "           0       0.92      0.98      0.95      7985\n",
      "           1       0.68      0.39      0.50      1058\n",
      "\n",
      "    accuracy                           0.91      9043\n",
      "   macro avg       0.80      0.68      0.72      9043\n",
      "weighted avg       0.89      0.91      0.90      9043\n",
      "\n"
     ]
    }
   ],
   "source": [
    "rf_model = RandomForestClassifier(random_state=42)\n",
    "\n",
    "rf_model.fit(X_train, y_train)\n",
    "\n",
    "rf_y_pred = rf_model.predict(X_test)\n",
    "\n",
    "print(confusion_matrix(y_test, rf_y_pred))\n",
    "print(classification_report(y_test, rf_y_pred))"
   ]
  },
  {
   "cell_type": "markdown",
   "metadata": {},
   "source": [
    "Only 197 false positives → Much better than Logistic Regression (1203).\n",
    "\n",
    "Missed 643 true \"yes\" cases → Recall for \"yes\" is low.\n",
    "\n",
    "Precision & Recall:\n",
    "\n",
    "Class 0 (No Subscription)\n",
    "\n",
    "Precision: 92% (Very good)\n",
    "\n",
    "Recall: 98% (Excellent)\n",
    "\n",
    "Class 1 (Subscription)\n",
    "\n",
    "Precision: 68% (Better than Logistic Regression’s 42%)\n",
    "\n",
    "Recall: 39% (Lower than Logistic Regression’s 81%)\n",
    "\n",
    "F1-Score\n",
    "\n",
    "Class 0: 95% (Very strong)\n",
    "\n",
    "Class 1: 50% (Better precision but still missing many true \"yes\" cases)\n",
    "\n",
    "Accuracy & Weighted Average\n",
    "\n",
    "Overall accuracy: 91% (Better than Logistic Regression’s 85%)\n",
    "\n",
    "Macro avg F1-score: 72% (Balanced metric)\n",
    "\n",
    "Weighted avg F1-score: 90%"
   ]
  },
  {
   "cell_type": "code",
   "execution_count": 24,
   "metadata": {},
   "outputs": [
    {
     "name": "stderr",
     "output_type": "stream",
     "text": [
      "f:\\AI Data Projects\\Bank_Marketing _Campaign_Success_Prediction\\bank_marketing\\lib\\site-packages\\sklearn\\base.py:474: FutureWarning: `BaseEstimator._validate_data` is deprecated in 1.6 and will be removed in 1.7. Use `sklearn.utils.validation.validate_data` instead. This function becomes public and is part of the scikit-learn developer API.\n",
      "  warnings.warn(\n",
      "f:\\AI Data Projects\\Bank_Marketing _Campaign_Success_Prediction\\bank_marketing\\lib\\site-packages\\joblib\\externals\\loky\\backend\\context.py:136: UserWarning: Could not find the number of physical cores for the following reason:\n",
      "[WinError 2] The system cannot find the file specified\n",
      "Returning the number of logical cores instead. You can silence this warning by setting LOKY_MAX_CPU_COUNT to the number of cores you want to use.\n",
      "  warnings.warn(\n",
      "  File \"f:\\AI Data Projects\\Bank_Marketing _Campaign_Success_Prediction\\bank_marketing\\lib\\site-packages\\joblib\\externals\\loky\\backend\\context.py\", line 257, in _count_physical_cores\n",
      "    cpu_info = subprocess.run(\n",
      "  File \"C:\\Users\\user\\AppData\\Local\\Programs\\Python\\Python39\\lib\\subprocess.py\", line 505, in run\n",
      "    with Popen(*popenargs, **kwargs) as process:\n",
      "  File \"C:\\Users\\user\\AppData\\Local\\Programs\\Python\\Python39\\lib\\subprocess.py\", line 951, in __init__\n",
      "    self._execute_child(args, executable, preexec_fn, close_fds,\n",
      "  File \"C:\\Users\\user\\AppData\\Local\\Programs\\Python\\Python39\\lib\\subprocess.py\", line 1420, in _execute_child\n",
      "    hp, ht, pid, tid = _winapi.CreateProcess(executable, args,\n"
     ]
    },
    {
     "name": "stdout",
     "output_type": "stream",
     "text": [
      "[[7629  356]\n",
      " [ 531  527]]\n",
      "              precision    recall  f1-score   support\n",
      "\n",
      "           0       0.93      0.96      0.95      7985\n",
      "           1       0.60      0.50      0.54      1058\n",
      "\n",
      "    accuracy                           0.90      9043\n",
      "   macro avg       0.77      0.73      0.74      9043\n",
      "weighted avg       0.90      0.90      0.90      9043\n",
      "\n"
     ]
    }
   ],
   "source": [
    "# Apply SMOTE to balance the dataset\n",
    "smote = SMOTE(random_state=42)\n",
    "X_train_smote, y_train_smote = smote.fit_resample(X_train, y_train)\n",
    "\n",
    "# Train Random Forest on SMOTE data\n",
    "rf_smote_model = RandomForestClassifier(random_state=42, class_weight=\"balanced\")\n",
    "rf_smote_model.fit(X_train_smote, y_train_smote)\n",
    "\n",
    "# Make predictions\n",
    "y_pred_smote = rf_smote_model.predict(X_test)\n",
    "\n",
    "# Evaluate model performance\n",
    "print(confusion_matrix(y_test, y_pred_smote))\n",
    "print(classification_report(y_test, y_pred_smote))"
   ]
  },
  {
   "cell_type": "markdown",
   "metadata": {},
   "source": [
    "Recall for \"yes\" (Subscription) improved (39% → 50%), meaning we are catching more real subscribers.\n",
    "\n",
    "Precision for \"yes\" dropped (68% → 60%), meaning more false positives.\n",
    "\n",
    "F1-score improved (50% → 54%), which balances precision & recall."
   ]
  },
  {
   "cell_type": "code",
   "execution_count": 28,
   "metadata": {},
   "outputs": [
    {
     "name": "stdout",
     "output_type": "stream",
     "text": [
      "Fitting 3 folds for each of 10 candidates, totalling 30 fits\n",
      "[[7564  421]\n",
      " [ 478  580]]\n",
      "              precision    recall  f1-score   support\n",
      "\n",
      "           0       0.94      0.95      0.94      7985\n",
      "           1       0.58      0.55      0.56      1058\n",
      "\n",
      "    accuracy                           0.90      9043\n",
      "   macro avg       0.76      0.75      0.75      9043\n",
      "weighted avg       0.90      0.90      0.90      9043\n",
      "\n"
     ]
    }
   ],
   "source": [
    "# Define hyperparameter grid\n",
    "param_dist = {\n",
    "    'n_estimators': [100, 300, 500],\n",
    "    'max_depth': [10, 20, 30, None],\n",
    "    'min_samples_split': [2, 5, 10],\n",
    "    'min_samples_leaf': [1, 2, 4],\n",
    "    'class_weight': ['balanced', 'balanced_subsample']\n",
    "}\n",
    "\n",
    "# Initialize Random Forest model\n",
    "rf_model = RandomForestClassifier(random_state=42)\n",
    "\n",
    "# Use RandomizedSearchCV for hyperparameter tuning\n",
    "random_search = RandomizedSearchCV(\n",
    "    rf_model, param_dist, n_iter=10, cv=3, scoring='f1', random_state=42, n_jobs=-1, verbose=1\n",
    ")\n",
    "\n",
    "# Fit on SMOTE-balanced data\n",
    "random_search.fit(X_train_smote, y_train_smote)\n",
    "\n",
    "# Best model from tuning\n",
    "best_rf = random_search.best_estimator_\n",
    "\n",
    "# Make predictions on test set\n",
    "y_pred_best_rf = best_rf.predict(X_test)\n",
    "\n",
    "# Evaluate model performance\n",
    "print(confusion_matrix(y_test, y_pred_best_rf))\n",
    "print(classification_report(y_test, y_pred_best_rf))"
   ]
  },
  {
   "cell_type": "markdown",
   "metadata": {},
   "source": [
    "Recall improved from 50% → 55% (More actual subscribers detected)\n",
    "\n",
    "F1-score improved from 54% → 56% (Better balance of precision & recall)\n",
    "\n",
    "Slight drop in precision from 60% → 58% (More false positives)\n",
    "\n",
    "Tuning helped capture more real subscribers but slightly increased false positives."
   ]
  },
  {
   "cell_type": "code",
   "execution_count": 31,
   "metadata": {},
   "outputs": [
    {
     "name": "stderr",
     "output_type": "stream",
     "text": [
      "f:\\AI Data Projects\\Bank_Marketing _Campaign_Success_Prediction\\bank_marketing\\lib\\site-packages\\xgboost\\core.py:158: UserWarning: [13:27:38] WARNING: C:\\buildkite-agent\\builds\\buildkite-windows-cpu-autoscaling-group-i-08cbc0333d8d4aae1-1\\xgboost\\xgboost-ci-windows\\src\\learner.cc:740: \n",
      "Parameters: { \"use_label_encoder\" } are not used.\n",
      "\n",
      "  warnings.warn(smsg, UserWarning)\n"
     ]
    },
    {
     "name": "stdout",
     "output_type": "stream",
     "text": [
      "[[7584  401]\n",
      " [ 484  574]]\n",
      "              precision    recall  f1-score   support\n",
      "\n",
      "           0       0.94      0.95      0.94      7985\n",
      "           1       0.59      0.54      0.56      1058\n",
      "\n",
      "    accuracy                           0.90      9043\n",
      "   macro avg       0.76      0.75      0.75      9043\n",
      "weighted avg       0.90      0.90      0.90      9043\n",
      "\n"
     ]
    }
   ],
   "source": [
    "# Initialize XGBoost model\n",
    "xgb_model = XGBClassifier(\n",
    "    random_state=42,\n",
    "    scale_pos_weight=len(y_train_smote[y_train_smote == 0]) / len(y_train_smote[y_train_smote == 1]),\n",
    "    use_label_encoder=False,\n",
    "    eval_metric=\"logloss\"\n",
    ")\n",
    "\n",
    "# Train the model on SMOTE-balanced data\n",
    "xgb_model.fit(X_train_smote, y_train_smote)\n",
    "\n",
    "# Make predictions\n",
    "y_pred_xgb = xgb_model.predict(X_test)\n",
    "\n",
    "# Evaluate model performance\n",
    "print(confusion_matrix(y_test, y_pred_xgb))\n",
    "print(classification_report(y_test, y_pred_xgb))"
   ]
  },
  {
   "cell_type": "markdown",
   "metadata": {},
   "source": [
    "XGBoost slightly improved precision (59% vs. 58%) → Fewer false positives.\n",
    "\n",
    "Recall slightly dropped (54% vs. 55%) → Misses a few more true \"yes\" cases.\n",
    "\n",
    "Overall, XGBoost and Random Forest are very close in performance."
   ]
  }
 ],
 "metadata": {
  "kernelspec": {
   "display_name": "bank_marketing",
   "language": "python",
   "name": "python3"
  },
  "language_info": {
   "codemirror_mode": {
    "name": "ipython",
    "version": 3
   },
   "file_extension": ".py",
   "mimetype": "text/x-python",
   "name": "python",
   "nbconvert_exporter": "python",
   "pygments_lexer": "ipython3",
   "version": "3.9.10"
  }
 },
 "nbformat": 4,
 "nbformat_minor": 2
}
